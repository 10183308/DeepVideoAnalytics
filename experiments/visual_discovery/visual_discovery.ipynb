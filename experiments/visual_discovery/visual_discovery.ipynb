{
 "cells": [
  {
   "cell_type": "markdown",
   "metadata": {},
   "source": [
    "# Building backend for Visual Discovery using Deep Video Analytics"
   ]
  },
  {
   "cell_type": "markdown",
   "metadata": {},
   "source": [
    "#### Setup & import Django app"
   ]
  },
  {
   "cell_type": "code",
   "execution_count": 2,
   "metadata": {
    "collapsed": false
   },
   "outputs": [],
   "source": [
    "import sys\n",
    "sys.path.append(\"../../\")\n",
    "import django,os,glob\n",
    "os.environ.setdefault(\"DJANGO_SETTINGS_MODULE\", \"dva.settings\")\n",
    "django.setup()"
   ]
  },
  {
   "cell_type": "code",
   "execution_count": 9,
   "metadata": {
    "collapsed": true
   },
   "outputs": [],
   "source": [
    "import dvaapp.views as views\n",
    "import dvaapp.tasks as tasks\n",
    "from dvaapp.models import TEvent"
   ]
  },
  {
   "cell_type": "markdown",
   "metadata": {},
   "source": [
    "### Extraction and processing videos"
   ]
  },
  {
   "cell_type": "code",
   "execution_count": 12,
   "metadata": {
    "collapsed": false
   },
   "outputs": [
    {
     "name": "stderr",
     "output_type": "stream",
     "text": [
      "WARNING:root:Loading the network inception , first apply / query will be slower\n"
     ]
    }
   ],
   "source": [
    "video_list = [('vogue fashion',\"https://www.youtube.com/watch?v=TJA6I-ZaoTY\"),\n",
    "            ('home decoration','https://www.youtube.com/watch?v=f0BkV6OV8z4')]\n",
    "videos = {}\n",
    "for name,url in video_list:\n",
    "    v = views.handle_youtube_video(name,url,extract=True)\n",
    "    tasks.inception_index_by_id(TEvent.objects.create(video=v).pk)\n",
    "    tasks.perform_ssd_detection_by_id(TEvent.objects.create(video=v).pk)\n",
    "    tasks.perform_face_indexing(v.pk)\n",
    "    tasks.inception_index_regions_by_id(TEvent.objects.create(video=v).pk)"
   ]
  },
  {
   "cell_type": "code",
   "execution_count": null,
   "metadata": {
    "collapsed": true
   },
   "outputs": [],
   "source": []
  }
 ],
 "metadata": {
  "kernelspec": {
   "display_name": "Python 2",
   "language": "python",
   "name": "python2"
  },
  "language_info": {
   "codemirror_mode": {
    "name": "ipython",
    "version": 2
   },
   "file_extension": ".py",
   "mimetype": "text/x-python",
   "name": "python",
   "nbconvert_exporter": "python",
   "pygments_lexer": "ipython2",
   "version": "2.7.10"
  }
 },
 "nbformat": 4,
 "nbformat_minor": 1
}
