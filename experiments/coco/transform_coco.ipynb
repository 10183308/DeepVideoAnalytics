{
 "cells": [
  {
   "cell_type": "code",
   "execution_count": 16,
   "metadata": {
    "collapsed": true
   },
   "outputs": [],
   "source": [
    "import json\n",
    "import random\n",
    "import os\n",
    "import shutil\n",
    "from urllib import urlretrieve"
   ]
  },
  {
   "cell_type": "code",
   "execution_count": 82,
   "metadata": {
    "collapsed": true
   },
   "outputs": [],
   "source": [
    "train_data = json.load(file(\"coco_sample/instances_train2014.json\"))"
   ]
  },
  {
   "cell_type": "code",
   "execution_count": 23,
   "metadata": {
    "collapsed": false
   },
   "outputs": [
    {
     "name": "stdout",
     "output_type": "stream",
     "text": [
      "99\n",
      "199\n",
      "299\n",
      "399\n",
      "499\n"
     ]
    }
   ],
   "source": [
    "sample = random.sample(train_data['images'],500)\n",
    "dirname = '/Users/aub3/coco_input/'\n",
    "ids = set()\n",
    "try:\n",
    "    shutil.rmtree(dirname)\n",
    "except:\n",
    "    pass\n",
    "os.mkdir(dirname)\n",
    "for count,img in enumerate(sample):\n",
    "    if (count+1)%100== 0:\n",
    "        print count\n",
    "    fname = os.path.join(dirname, img['file_name'])\n",
    "    if not os.path.exists(fname):\n",
    "        urlretrieve(img['coco_url'], fname)\n",
    "    ids.add(img['id'])"
   ]
  },
  {
   "cell_type": "code",
   "execution_count": 83,
   "metadata": {
    "collapsed": false
   },
   "outputs": [],
   "source": [
    "from collections import defaultdict\n",
    "data = defaultdict(lambda:{'image':None,'annotations':[]})\n",
    "id_to_license = {k['id']:k for k in train_data['licenses']}\n",
    "id_to_category = {k['id']:k for k in train_data['categories']}        \n",
    "for entry in train_data['images']:\n",
    "    if entry['id'] in ids:\n",
    "        entry['license'] = id_to_license[entry['license']]\n",
    "        data[entry['id']]['image'] = entry\n",
    "for annotation in train_data['annotations']:\n",
    "    if annotation['image_id'] in ids:\n",
    "        annotation['category']=id_to_category[annotation['category_id']]\n",
    "        data[annotation['image_id']]['annotations'].append(annotation)"
   ]
  },
  {
   "cell_type": "code",
   "execution_count": 84,
   "metadata": {
    "collapsed": false
   },
   "outputs": [],
   "source": [
    "with open('coco_sample_metadata.json','w') as output:\n",
    "    json.dump(data,output)"
   ]
  },
  {
   "cell_type": "code",
   "execution_count": 85,
   "metadata": {
    "collapsed": false,
    "scrolled": false
   },
   "outputs": [
    {
     "name": "stdout",
     "output_type": "stream",
     "text": [
      "[u'info', u'images', u'licenses', u'annotations', u'categories']\n",
      "500\n",
      "(522244,\n",
      " {'annotations': [{u'area': 33148.725900000005,\n",
      "                   u'bbox': [227.86, 180.57, 323.6, 158.92],\n",
      "                   'category': {u'id': 7,\n",
      "                                u'name': u'train',\n",
      "                                u'supercategory': u'vehicle'},\n",
      "                   u'category_id': 7,\n",
      "                   u'id': 173922,\n",
      "                   u'image_id': 522244,\n",
      "                   u'iscrowd': 0,\n",
      "                   u'segmentation': [[229.78,\n",
      "                                      257.16,\n",
      "                                      235.52,\n",
      "                                      250.46,\n",
      "                                      270.94,\n",
      "                                      236.09,\n",
      "                                      299.67,\n",
      "                                      227.48,\n",
      "                                      341.79,\n",
      "                                      215.99,\n",
      "                                      361.9,\n",
      "                                      215.03,\n",
      "                                      383.92,\n",
      "                                      215.03,\n",
      "                                      391.58,\n",
      "                                      206.42,\n",
      "                                      400.19,\n",
      "                                      202.59,\n",
      "                                      411.68,\n",
      "                                      204.5,\n",
      "                                      469.13,\n",
      "                                      187.27,\n",
      "                                      472.0,\n",
      "                                      187.27,\n",
      "                                      476.78,\n",
      "                                      181.52,\n",
      "                                      481.57,\n",
      "                                      184.4,\n",
      "                                      488.27,\n",
      "                                      180.57,\n",
      "                                      499.76,\n",
      "                                      190.14,\n",
      "                                      538.06,\n",
      "                                      201.63,\n",
      "                                      545.72,\n",
      "                                      275.35,\n",
      "                                      542.85,\n",
      "                                      283.96,\n",
      "                                      546.67,\n",
      "                                      295.45,\n",
      "                                      551.46,\n",
      "                                      311.73,\n",
      "                                      539.02,\n",
      "                                      335.66,\n",
      "                                      468.17,\n",
      "                                      339.49,\n",
      "                                      435.62,\n",
      "                                      332.79,\n",
      "                                      335.09,\n",
      "                                      305.98,\n",
      "                                      232.65,\n",
      "                                      283.01,\n",
      "                                      227.86,\n",
      "                                      279.18,\n",
      "                                      227.86,\n",
      "                                      267.69,\n",
      "                                      230.73,\n",
      "                                      263.86]]},\n",
      "                  {u'area': 5137.4030999999995,\n",
      "                   u'bbox': [542.15, 226.45, 95.95, 66.21],\n",
      "                   'category': {u'id': 7,\n",
      "                                u'name': u'train',\n",
      "                                u'supercategory': u'vehicle'},\n",
      "                   u'category_id': 7,\n",
      "                   u'id': 174738,\n",
      "                   u'image_id': 522244,\n",
      "                   u'iscrowd': 0,\n",
      "                   u'segmentation': [[544.07,\n",
      "                                      230.29,\n",
      "                                      560.38,\n",
      "                                      226.45,\n",
      "                                      573.81,\n",
      "                                      236.05,\n",
      "                                      616.03,\n",
      "                                      243.73,\n",
      "                                      638.1,\n",
      "                                      238.93,\n",
      "                                      638.1,\n",
      "                                      292.66,\n",
      "                                      553.66,\n",
      "                                      289.78,\n",
      "                                      542.15,\n",
      "                                      288.82]]},\n",
      "                  {u'area': 287.7694499999997,\n",
      "                   u'bbox': [95.25, 260.16, 17.8, 25.11],\n",
      "                   'category': {u'id': 1,\n",
      "                                u'name': u'person',\n",
      "                                u'supercategory': u'person'},\n",
      "                   u'category_id': 1,\n",
      "                   u'id': 1222587,\n",
      "                   u'image_id': 522244,\n",
      "                   u'iscrowd': 0,\n",
      "                   u'segmentation': [[111.1,\n",
      "                                      283.07,\n",
      "                                      113.05,\n",
      "                                      276.98,\n",
      "                                      109.15,\n",
      "                                      271.62,\n",
      "                                      105.98,\n",
      "                                      266.98,\n",
      "                                      105.73,\n",
      "                                      260.4,\n",
      "                                      101.59,\n",
      "                                      260.16,\n",
      "                                      96.96,\n",
      "                                      264.3,\n",
      "                                      97.69,\n",
      "                                      271.86,\n",
      "                                      95.25,\n",
      "                                      280.64,\n",
      "                                      97.69,\n",
      "                                      285.27]]},\n",
      "                  {u'area': 29.771449999999987,\n",
      "                   u'bbox': [35.51, 269.79, 4.03, 10.53],\n",
      "                   'category': {u'id': 1,\n",
      "                                u'name': u'person',\n",
      "                                u'supercategory': u'person'},\n",
      "                   u'category_id': 1,\n",
      "                   u'id': 1243475,\n",
      "                   u'image_id': 522244,\n",
      "                   u'iscrowd': 0,\n",
      "                   u'segmentation': [[39.23,\n",
      "                                      280.32,\n",
      "                                      36.93,\n",
      "                                      280.24,\n",
      "                                      36.54,\n",
      "                                      276.28,\n",
      "                                      35.82,\n",
      "                                      274.86,\n",
      "                                      35.51,\n",
      "                                      272.72,\n",
      "                                      36.62,\n",
      "                                      272.09,\n",
      "                                      36.54,\n",
      "                                      269.79,\n",
      "                                      37.88,\n",
      "                                      269.87,\n",
      "                                      38.52,\n",
      "                                      271.85,\n",
      "                                      39.46,\n",
      "                                      272.4,\n",
      "                                      39.54,\n",
      "                                      279.84]]}],\n",
      "  'image': {u'coco_url': u'http://mscoco.org/images/522244',\n",
      "            u'date_captured': u'2013-11-17 08:38:29',\n",
      "            u'file_name': u'COCO_train2014_000000522244.jpg',\n",
      "            u'flickr_url': u'http://farm8.staticflickr.com/7308/9237744313_f08f206d0b_z.jpg',\n",
      "            u'height': 427,\n",
      "            u'id': 522244,\n",
      "            u'license': {u'id': 4,\n",
      "                         u'name': u'Attribution License',\n",
      "                         u'url': u'http://creativecommons.org/licenses/by/2.0/'},\n",
      "            u'width': 640}})\n"
     ]
    }
   ],
   "source": [
    "print train_data.keys()\n",
    "print(len(data))\n",
    "pprint(data.items()[0])"
   ]
  },
  {
   "cell_type": "code",
   "execution_count": null,
   "metadata": {
    "collapsed": true
   },
   "outputs": [],
   "source": []
  }
 ],
 "metadata": {
  "kernelspec": {
   "display_name": "Python 2",
   "language": "python",
   "name": "python2"
  },
  "language_info": {
   "codemirror_mode": {
    "name": "ipython",
    "version": 2
   },
   "file_extension": ".py",
   "mimetype": "text/x-python",
   "name": "python",
   "nbconvert_exporter": "python",
   "pygments_lexer": "ipython2",
   "version": "2.7.10"
  }
 },
 "nbformat": 4,
 "nbformat_minor": 1
}
