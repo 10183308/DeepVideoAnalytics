{
 "cells": [
  {
   "cell_type": "code",
   "execution_count": 1,
   "metadata": {
    "collapsed": false
   },
   "outputs": [],
   "source": [
    "import json\n",
    "import random\n",
    "import os\n",
    "import shutil\n",
    "from urllib import urlretrieve\n",
    "import sys\n",
    "sys.path.append('../../')\n",
    "import django,os,glob\n",
    "os.environ.setdefault(\"DJANGO_SETTINGS_MODULE\", \"dva.settings\")\n",
    "django.setup()"
   ]
  },
  {
   "cell_type": "code",
   "execution_count": 3,
   "metadata": {
    "collapsed": false
   },
   "outputs": [],
   "source": [
    "train_data = json.load(file(\"coco_sample/instances_train2014.json\"))\n",
    "capitons_train_data = json.load(file(\"coco_sample/captions_train2014.json\"))\n",
    "sample = random.sample(train_data['images'],150)\n",
    "dirname = '/Users/aub3/coco_input/'"
   ]
  },
  {
   "cell_type": "code",
   "execution_count": 4,
   "metadata": {
    "collapsed": false
   },
   "outputs": [
    {
     "name": "stdout",
     "output_type": "stream",
     "text": [
      "99\n"
     ]
    }
   ],
   "source": [
    "ids = set()\n",
    "try:\n",
    "    shutil.rmtree(dirname)\n",
    "except:\n",
    "    pass\n",
    "os.mkdir(dirname)\n",
    "for count,img in enumerate(sample):\n",
    "    if (count+1)%100== 0:\n",
    "        print count\n",
    "    fname = os.path.join(dirname, img['file_name'])\n",
    "    if not os.path.exists(fname):\n",
    "        urlretrieve(img['coco_url'], fname)\n",
    "    ids.add(img['id'])\n",
    "from collections import defaultdict\n",
    "data = defaultdict(lambda:{'image':None,'annotations':[],'captions':[]})\n",
    "id_to_license = {k['id']:k for k in train_data['licenses']}\n",
    "id_to_category = {k['id']:k for k in train_data['categories']}        \n",
    "for entry in train_data['images']:\n",
    "    if entry['id'] in ids:\n",
    "        entry['license'] = id_to_license[entry['license']]\n",
    "        data[entry['id']]['image'] = entry\n",
    "for annotation in train_data['annotations']:\n",
    "    if annotation['image_id'] in ids:\n",
    "        annotation['category']=id_to_category[annotation['category_id']]\n",
    "        data[annotation['image_id']]['annotations'].append(annotation)    \n",
    "for annotation in capitons_train_data['annotations']:\n",
    "    if annotation['image_id'] in ids:        \n",
    "        data[annotation['image_id']]['captions'].append(annotation)            \n",
    "with open('coco_sample_metadata.json','w') as output:\n",
    "    json.dump(data,output)        "
   ]
  },
  {
   "cell_type": "code",
   "execution_count": 5,
   "metadata": {
    "collapsed": false
   },
   "outputs": [
    {
     "data": {
      "text/plain": [
       "0"
      ]
     },
     "execution_count": 5,
     "metadata": {},
     "output_type": "execute_result"
    }
   ],
   "source": [
    "os.system(\"zip coco_input.zip -r {}\".format(dirname))"
   ]
  },
  {
   "cell_type": "code",
   "execution_count": 10,
   "metadata": {
    "collapsed": false
   },
   "outputs": [],
   "source": [
    "from django.core.files.uploadedfile import SimpleUploadedFile\n",
    "from dvaapp.views import handle_uploaded_file, handle_youtube_video\n",
    "from dvaapp.models import Video\n",
    "from dvaapp import models\n",
    "from dvaapp.tasks import extract_frames, perform_face_indexing, inception_index_by_id, perform_ssd_detection_by_id, perform_yolo_detection_by_id, inception_index_ssd_detection_by_id\n",
    "fname = 'coco_input.zip'\n",
    "f = SimpleUploadedFile(fname, file('coco_input.zip').read(), content_type=\"application/zip\")\n",
    "v = handle_uploaded_file(f, name)\n",
    "extract_frames(v.pk)\n",
    "data = json.load(file('coco_sample_metadata.json'))\n",
    "v.name ='mscoco_sample_500'\n",
    "v.save()\n",
    "video=v\n",
    "models.Annotation.objects.all().filter(video=video).delete()\n",
    "for frame in models.Frame.objects.all().filter(video=video):\n",
    "    frame_id = str(int(frame.name.split('_')[-1].split('.')[0]))\n",
    "    annotation = models.Annotation()\n",
    "    annotation.video = v\n",
    "    annotation.frame = frame\n",
    "    annotation.full_frame = True\n",
    "    annotation.metadata_text = json.dumps(data[frame_id]['image'])\n",
    "    annotation.label = 'metadata'\n",
    "    annotation.save()\n",
    "for frame in models.Frame.objects.all().filter(video=video):\n",
    "    frame_id = str(int(frame.name.split('_')[-1].split('.')[0]))\n",
    "    for a in data[frame_id][u'annotations']:                                                            \n",
    "        annotation = models.Annotation()\n",
    "        annotation.video = v\n",
    "        annotation.frame = frame\n",
    "        annotation.metadata_text = json.dumps(a)\n",
    "        annotation.full_frame = False        \n",
    "        annotation.x = a['bbox'][0]\n",
    "        annotation.y = a['bbox'][1]\n",
    "        annotation.w = a['bbox'][2]\n",
    "        annotation.h = a['bbox'][3]\n",
    "        label,_ = models.VLabel.objects.get_or_create(video=video,label_name='coco_instance/{}/{}'.format(a[u'category'][u'supercategory'],a[u'category'][u'name']))\n",
    "        annotation.label = label.label_name\n",
    "        annotation.label_parent = label\n",
    "        annotation.save()\n",
    "    for caption in data[frame_id][u'captions']:                                                            \n",
    "        annotation = models.Annotation()\n",
    "        annotation.video = v\n",
    "        annotation.frame = frame\n",
    "        annotation.metadata_text = json.dumps(caption)\n",
    "        annotation.full_frame = True        \n",
    "        label,_ = models.VLabel.objects.get_or_create(video=video,label_name='coco_caption')\n",
    "        annotation.label = label.label_name\n",
    "        annotation.label_parent = label\n",
    "        annotation.save()                "
   ]
  },
  {
   "cell_type": "code",
   "execution_count": null,
   "metadata": {
    "collapsed": true
   },
   "outputs": [],
   "source": [
    "inception_index_by_id(v.pk)\n",
    "perform_ssd_detection_by_id(v.pk)\n",
    "perform_yolo_detection_by_id(v.pk)\n",
    "perform_face_indexing(v.pk)\n",
    "inception_index_ssd_detection_by_id(v.pk)"
   ]
  }
 ],
 "metadata": {
  "kernelspec": {
   "display_name": "Python 2",
   "language": "python",
   "name": "python2"
  },
  "language_info": {
   "codemirror_mode": {
    "name": "ipython",
    "version": 2
   },
   "file_extension": ".py",
   "mimetype": "text/x-python",
   "name": "python",
   "nbconvert_exporter": "python",
   "pygments_lexer": "ipython2",
   "version": "2.7.10"
  }
 },
 "nbformat": 4,
 "nbformat_minor": 1
}
