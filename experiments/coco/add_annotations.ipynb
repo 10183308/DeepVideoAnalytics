{
 "cells": [
  {
   "cell_type": "code",
   "execution_count": 1,
   "metadata": {
    "collapsed": true
   },
   "outputs": [],
   "source": [
    "import django\n",
    "import json,os,sys\n",
    "sys.path.append(\"../../\")\n",
    "os.environ.setdefault(\"DJANGO_SETTINGS_MODULE\", \"dva.settings\")\n",
    "django.setup()"
   ]
  },
  {
   "cell_type": "code",
   "execution_count": 2,
   "metadata": {
    "collapsed": false
   },
   "outputs": [],
   "source": [
    "from dvaapp import models"
   ]
  },
  {
   "cell_type": "code",
   "execution_count": 3,
   "metadata": {
    "collapsed": true
   },
   "outputs": [],
   "source": [
    "data = json.load(file('coco_sample_metadata.json'))"
   ]
  },
  {
   "cell_type": "code",
   "execution_count": 4,
   "metadata": {
    "collapsed": false
   },
   "outputs": [],
   "source": [
    "video = models.Video.objects.get(pk=1)\n",
    "video.name ='mscoco_sample_500'\n",
    "video.save()\n",
    "models.Annotation.objects.all().filter(video=video).delete()\n",
    "for frame in models.Frame.objects.all().filter(video=video):\n",
    "    frame_id = str(int(frame.name.split('_')[-1].split('.')[0]))\n",
    "    annotation = models.Annotation()\n",
    "    annotation.video = video\n",
    "    annotation.frame = frame\n",
    "    annotation.full_frame = True\n",
    "    annotation.metadata_text = json.dumps(data[frame_id]['image'])\n",
    "    annotation.name = 'coco_image_metadata'\n",
    "    annotation.label = 'image_metadata'\n",
    "    annotation.save()"
   ]
  },
  {
   "cell_type": "code",
   "execution_count": 5,
   "metadata": {
    "collapsed": false
   },
   "outputs": [],
   "source": [
    "for frame in models.Frame.objects.all().filter(video=video):\n",
    "    frame_id = str(int(frame.name.split('_')[-1].split('.')[0]))\n",
    "    for a in data[frame_id][u'annotations']:                                                            \n",
    "        annotation = models.Annotation()\n",
    "        annotation.video = video\n",
    "        annotation.frame = frame\n",
    "        annotation.metadata_text = json.dumps(a)\n",
    "        annotation.full_frame = False        \n",
    "        annotation.x = a['bbox'][0]\n",
    "        annotation.y = a['bbox'][1]\n",
    "        annotation.w = a['bbox'][2]\n",
    "        annotation.h = a['bbox'][3]\n",
    "        label,_ = models.VLabel.objects.get_or_create(label_name='{}/{}'.format(a[u'category'][u'supercategory'],a[u'category'][u'name']))\n",
    "        annotation.label = label.label_name\n",
    "        annotation.label_parent = label\n",
    "        annotation.name = 'coco_instance_annotation'\n",
    "        annotation.save()"
   ]
  }
 ],
 "metadata": {
  "kernelspec": {
   "display_name": "Python 2",
   "language": "python",
   "name": "python2"
  },
  "language_info": {
   "codemirror_mode": {
    "name": "ipython",
    "version": 2
   },
   "file_extension": ".py",
   "mimetype": "text/x-python",
   "name": "python",
   "nbconvert_exporter": "python",
   "pygments_lexer": "ipython2",
   "version": "2.7.10"
  }
 },
 "nbformat": 4,
 "nbformat_minor": 1
}
