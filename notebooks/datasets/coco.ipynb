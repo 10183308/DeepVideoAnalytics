{
 "cells": [
  {
   "cell_type": "code",
   "execution_count": 1,
   "metadata": {
    "collapsed": false
   },
   "outputs": [
    {
     "name": "stdout",
     "output_type": "stream",
     "text": [
      "{\n",
      "    \"AcceptRanges\": \"bytes\", \n",
      "    \"ContentType\": \"application/zip\", \n",
      "    \"LastModified\": \"Thu, 08 Jun 2017 08:23:29 GMT\", \n",
      "    \"ContentLength\": 15039245, \n",
      "    \"ETag\": \"\\\"941dce3dcb01a48b9fe6949abc788606-2\\\"\", \n",
      "    \"Metadata\": {}\n",
      "}\n",
      "{\n",
      "    \"AcceptRanges\": \"bytes\", \n",
      "    \"ContentType\": \"application/zip\", \n",
      "    \"LastModified\": \"Thu, 08 Jun 2017 08:20:21 GMT\", \n",
      "    \"ContentLength\": 19673183, \n",
      "    \"ETag\": \"\\\"8fc6b85a781c6d7311a90de09c2a9717-3\\\"\", \n",
      "    \"Metadata\": {}\n",
      "}\n",
      "{\n",
      "    \"AcceptRanges\": \"bytes\", \n",
      "    \"ContentType\": \"application/zip\", \n",
      "    \"LastModified\": \"Thu, 08 Jun 2017 08:19:36 GMT\", \n",
      "    \"ContentLength\": 165168220, \n",
      "    \"ETag\": \"\\\"3d7f6f4c6468925e9e1f32fec74845db-20\\\"\", \n",
      "    \"Metadata\": {}\n",
      "}\n",
      "{\n",
      "    \"AcceptRanges\": \"bytes\", \n",
      "    \"ContentType\": \"application/zip\", \n",
      "    \"LastModified\": \"Thu, 08 Jun 2017 08:19:58 GMT\", \n",
      "    \"ContentLength\": 73686497, \n",
      "    \"ETag\": \"\\\"3fa89f3c2652cd74db588205119c1fe5-9\\\"\", \n",
      "    \"Metadata\": {}\n",
      "}\n"
     ]
    }
   ],
   "source": [
    "!aws s3api get-object --request-payer \"requester\" --bucket visualdatanetwork --key coco/COCO_Text.zip  COCO_Text.zip\n",
    "!aws s3api get-object --request-payer \"requester\" --bucket visualdatanetwork --key coco/captions.zip  captions.zip\n",
    "!aws s3api get-object --request-payer \"requester\" --bucket visualdatanetwork --key coco/instances.zip  instances.zip\n",
    "!aws s3api get-object --request-payer \"requester\" --bucket visualdatanetwork --key coco/persons.zip  persons.zip"
   ]
  },
  {
   "cell_type": "code",
   "execution_count": 7,
   "metadata": {
    "collapsed": false
   },
   "outputs": [
    {
     "name": "stdout",
     "output_type": "stream",
     "text": [
      "Archive:  COCO_Text.zip\n",
      "  inflating: COCO_Text.json          \n",
      "Archive:  captions.zip\n",
      "  inflating: annotations/captions_train2014.json  \n",
      "  inflating: annotations/captions_val2014.json  \n",
      "Archive:  instances.zip\n",
      "  inflating: annotations/instances_train2014.json  \n",
      "  inflating: annotations/instances_val2014.json  \n",
      "Archive:  persons.zip\n",
      "  inflating: annotations/person_keypoints_train2014.json  \n",
      "  inflating: annotations/person_keypoints_val2014.json  \n"
     ]
    }
   ],
   "source": [
    "!unzip COCO_Text.zip\n",
    "!unzip captions.zip\n",
    "!unzip instances.zip\n",
    "!unzip persons.zip"
   ]
  },
  {
   "cell_type": "code",
   "execution_count": 10,
   "metadata": {
    "collapsed": true
   },
   "outputs": [],
   "source": [
    "import sys,os,random\n",
    "import django\n",
    "sys.path.append(\"../../\")\n",
    "os.environ.setdefault(\"DJANGO_SETTINGS_MODULE\", \"dva.settings\")\n",
    "django.setup()\n",
    "import os, shutil, gzip, json\n",
    "from django.core.files.uploadedfile import SimpleUploadedFile\n",
    "from dvaapp.shared import handle_uploaded_file\n",
    "from dvaapp import models\n",
    "from dvaapp.models import TEvent\n",
    "from dvaapp.tasks import extract_frames, export_video_by_id\n",
    "from collections import defaultdict"
   ]
  },
  {
   "cell_type": "code",
   "execution_count": 18,
   "metadata": {
    "collapsed": true
   },
   "outputs": [],
   "source": [
    "train_data = json.load(file('annotations/instances_train2014.json'))\n",
    "captions_train_data = json.load(file('annotations/captions_train2014.json'))\n",
    "keypoints_train_data = json.load(file('annotations/instances_train2014.json'))\n",
    "text_train_data = json.load(file('COCO_Text.json'))\n",
    "data = defaultdict(lambda: {'image': None, 'annotations': [], 'captions': [], 'keypoints': [], 'text': []})\n",
    "id_to_license = {k['id']: k for k in train_data['licenses']}\n",
    "id_to_category = {k['id']: k for k in train_data['categories']}\n",
    "kp_id_to_category = {k['id']: k for k in keypoints_train_data['categories']}\n",
    "for entry in train_data['images']:\n",
    "    entry['license'] = id_to_license[entry['license']]\n",
    "    data[entry['id']]['image'] = entry\n",
    "for annotation in train_data['annotations']:\n",
    "    annotation['category'] = id_to_category[annotation['category_id']]\n",
    "    data[annotation['image_id']]['annotations'].append(annotation)\n",
    "del train_data\n",
    "for annotation in captions_train_data['annotations']:\n",
    "    data[annotation['image_id']]['captions'].append(annotation)\n",
    "del captions_train_data\n",
    "for annotation in keypoints_train_data['annotations']:\n",
    "    annotation['category'] = kp_id_to_category[annotation['category_id']]\n",
    "    data[annotation['image_id']]['keypoints'].append(annotation)\n",
    "for annotation in text_train_data['anns'].itervalues():\n",
    "    data[annotation['image_id']]['text'].append(annotation)"
   ]
  },
  {
   "cell_type": "code",
   "execution_count": 12,
   "metadata": {
    "collapsed": false
   },
   "outputs": [
    {
     "name": "stdout",
     "output_type": "stream",
     "text": [
      "aws s3api get-object --request-payer \"requester\" --bucket visualdatanetwork --key coco/train2014.zip  /root/DVA/dva/media/3/video/3.zip\n"
     ]
    }
   ],
   "source": [
    "name = \"coco_train\"\n",
    "fname = \"coco_train.zip\"\n",
    "f = SimpleUploadedFile(fname, \"\", content_type=\"application/zip\")\n",
    "v = handle_uploaded_file(f, name)\n",
    "outpath = \"/root/DVA/dva/media/{}/video/{}.zip\".format(v.pk, v.pk)\n",
    "os.system('rm  {}'.format(outpath))\n",
    "command = 'aws s3api get-object --request-payer \"requester\" --bucket visualdatanetwork --key coco/train2014.zip  {}'.format(\n",
    "        outpath)\n",
    "print command\n",
    "os.system(command)\n",
    "extract_frames(TEvent.objects.create(video=v).pk)\n",
    "video = v\n",
    "buffer = []\n",
    "batch_count = 0"
   ]
  },
  {
   "cell_type": "code",
   "execution_count": null,
   "metadata": {
    "collapsed": true
   },
   "outputs": [],
   "source": [
    "models.Region.objects.all().filter(video=v).delete()\n",
    "for frame in models.Frame.objects.all().filter(video=video):\n",
    "    frame_id = int(frame.name.split('_')[-1].split('.')[0])\n",
    "    annotation = models.Region()\n",
    "    annotation.region_type = models.Region.ANNOTATION\n",
    "    annotation.video_id = v.pk\n",
    "    annotation.frame_id = frame.pk\n",
    "    annotation.full_frame = True\n",
    "    annotation.metadata_json = json.dumps(data[frame_id]['image'])\n",
    "    annotation.object_name = 'metadata'\n",
    "    buffer.append(annotation)\n",
    "    for a in data[frame_id][u'annotations']:\n",
    "        annotation = models.Region()\n",
    "        annotation.region_type = models.Region.ANNOTATION\n",
    "        annotation.video_id = v.pk\n",
    "        annotation.frame_id = frame.pk\n",
    "        annotation.metadata_json = json.dumps(a)\n",
    "        annotation.full_frame = False\n",
    "        annotation.x = a['bbox'][0]\n",
    "        annotation.y = a['bbox'][1]\n",
    "        annotation.w = a['bbox'][2]\n",
    "        annotation.h = a['bbox'][3]\n",
    "        annotation.object_name = 'coco_instance/{}/{}'.format(a[u'category'][u'supercategory'], a[u'category'][u'name'])\n",
    "        buffer.append(annotation)\n",
    "    for a in data[frame_id][u'keypoints']:\n",
    "        annotation = models.Region()\n",
    "        annotation.region_type = models.Region.ANNOTATION\n",
    "        annotation.video_id = v.pk\n",
    "        annotation.frame_id = frame.pk\n",
    "        annotation.metadata_json = json.dumps(a)\n",
    "        annotation.x = a['bbox'][0]\n",
    "        annotation.y = a['bbox'][1]\n",
    "        annotation.w = a['bbox'][2]\n",
    "        annotation.h = a['bbox'][3]\n",
    "        annotation.object_name = 'coco_keypoints/{}/{}'.format(a[u'category'][u'supercategory'], a[u'category'][u'name'])\n",
    "        buffer.append(annotation)\n",
    "    for a in data[frame_id][u'text']:\n",
    "        annotation = models.Region()\n",
    "        annotation.region_type = models.Region.ANNOTATION\n",
    "        annotation.video_id = v.pk\n",
    "        annotation.frame_id = frame.pk\n",
    "        annotation.metadata_text = a['utf8_string'] if 'utf8_string' in a else \"\"\n",
    "        annotation.metadata_json = json.dumps(a)\n",
    "        annotation.x = a['bbox'][0]\n",
    "        annotation.y = a['bbox'][1]\n",
    "        annotation.w = a['bbox'][2]\n",
    "        annotation.h = a['bbox'][3]\n",
    "        annotation.object_name = 'text/{}/{}/{}'.format(a['class'],a['legibility'],a['language'])\n",
    "        buffer.append(annotation)\n",
    "    for caption in data[frame_id][u'captions']:\n",
    "        annotation = models.Region()\n",
    "        annotation.region_type = models.Region.ANNOTATION\n",
    "        annotation.video_id = v.pk\n",
    "        annotation.frame_id = frame.pk\n",
    "        annotation.metadata_text = caption['caption']\n",
    "        annotation.full_frame = True\n",
    "        annotation.object_name = 'caption'\n",
    "        buffer.append(annotation)\n",
    "    if len(buffer) == 1000:\n",
    "        try:\n",
    "            models.Region.objects.bulk_create(buffer)\n",
    "            batch_count += 1\n",
    "            print \"saved {}\".format(batch_count)\n",
    "        except:\n",
    "            print \"encountered an error doing one by one\"\n",
    "            for k in buffer:\n",
    "                try:\n",
    "                    k.save()\n",
    "                except:\n",
    "                    print \"skipping\"\n",
    "                    print k.object_name\n",
    "        buffer = []\n",
    "try:\n",
    "    models.Region.objects.bulk_create(buffer)\n",
    "    batch_count += 1\n",
    "    print \"saved {}\".format(batch_count)\n",
    "except:\n",
    "    print \"encountered an error doing one by one\"\n",
    "    for k in buffer:\n",
    "        try:\n",
    "            k.save()\n",
    "        except:\n",
    "            print \"skipping\"\n",
    "            print k.object_name\n",
    "buffer = []"
   ]
  },
  {
   "cell_type": "code",
   "execution_count": null,
   "metadata": {
    "collapsed": true
   },
   "outputs": [],
   "source": [
    "export_video_by_id(TEvent.objects.create(video=v).pk)"
   ]
  }
 ],
 "metadata": {
  "kernelspec": {
   "display_name": "Python 2",
   "language": "python",
   "name": "python2"
  },
  "language_info": {
   "codemirror_mode": {
    "name": "ipython",
    "version": 2
   },
   "file_extension": ".py",
   "mimetype": "text/x-python",
   "name": "python",
   "nbconvert_exporter": "python",
   "pygments_lexer": "ipython2",
   "version": "2.7.10"
  }
 },
 "nbformat": 4,
 "nbformat_minor": 0
}
