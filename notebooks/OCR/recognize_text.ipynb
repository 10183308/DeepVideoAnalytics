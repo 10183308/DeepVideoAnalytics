{
 "cells": [
  {
   "cell_type": "markdown",
   "metadata": {},
   "source": [
    "## If you are running container on machine with GPU "
   ]
  },
  {
   "cell_type": "code",
   "execution_count": null,
   "metadata": {
    "collapsed": true
   },
   "outputs": [],
   "source": [
    "!pip install --no-cache-dir http://download.pytorch.org/whl/cu80/torch-0.1.12.post2-cp27-none-linux_x86_64.whl"
   ]
  },
  {
   "cell_type": "markdown",
   "metadata": {},
   "source": [
    "## Otherwise install CPU version"
   ]
  },
  {
   "cell_type": "code",
   "execution_count": 1,
   "metadata": {},
   "outputs": [
    {
     "name": "stdout",
     "output_type": "stream",
     "text": [
      "Collecting torch==0.1.12.post2 from http://download.pytorch.org/whl/cu75/torch-0.1.12.post2-cp27-none-linux_x86_64.whl\n",
      "  Downloading http://download.pytorch.org/whl/cu75/torch-0.1.12.post2-cp27-none-linux_x86_64.whl (348.8MB)\n",
      "\u001b[K    100% |################################| 348.8MB 7.0MB/s ta 0:00:011B/s eta 0:00:03###### | 342.8MB 7.5MB/s eta 0:00:01\n",
      "\u001b[?25hRequirement already satisfied: pyyaml in /usr/local/lib/python2.7/dist-packages (from torch==0.1.12.post2)\n",
      "Installing collected packages: torch\n",
      "Successfully installed torch-0.1.12.post2\n"
     ]
    }
   ],
   "source": [
    "! pip install --no-cache-dir http://download.pytorch.org/whl/cu75/torch-0.1.12.post2-cp27-none-linux_x86_64.whl"
   ]
  },
  {
   "cell_type": "markdown",
   "metadata": {},
   "source": [
    "## Install torchvision & download CRNN model ( for both CPU & GPU)"
   ]
  },
  {
   "cell_type": "code",
   "execution_count": 7,
   "metadata": {
    "scrolled": true
   },
   "outputs": [
    {
     "name": "stdout",
     "output_type": "stream",
     "text": [
      "--2017-09-11 18:47:24--  https://www.dropbox.com/s/l0vo83hmvv2aipn/crnn.pth\n",
      "Resolving www.dropbox.com (www.dropbox.com)... 162.125.4.1, 2620:100:6019:1:ffff:ffff:a27d:401\n",
      "Connecting to www.dropbox.com (www.dropbox.com)|162.125.4.1|:443... connected.\n",
      "HTTP request sent, awaiting response... 302 Found\n",
      "Location: https://dl.dropboxusercontent.com/content_link/JrwhKey6uMi0Pmg30MD44jo19h5iHRW3tYSJwREFz7wz9froZvOWNMGnamddduHa/file [following]\n",
      "--2017-09-11 18:47:25--  https://dl.dropboxusercontent.com/content_link/JrwhKey6uMi0Pmg30MD44jo19h5iHRW3tYSJwREFz7wz9froZvOWNMGnamddduHa/file\n",
      "Resolving dl.dropboxusercontent.com (dl.dropboxusercontent.com)... 162.125.4.6, 2620:100:6019:6:ffff:ffff:a27d:406\n",
      "Connecting to dl.dropboxusercontent.com (dl.dropboxusercontent.com)|162.125.4.6|:443... connected.\n",
      "HTTP request sent, awaiting response... 200 OK\n",
      "Length: 33351680 (32M) [text/plain]\n",
      "Saving to: 'crnn.pth'\n",
      "\n",
      "100%[======================================>] 33,351,680  13.6MB/s   in 2.3s   \n",
      "\n",
      "2017-09-11 18:47:29 (13.6 MB/s) - 'crnn.pth' saved [33351680/33351680]\n",
      "\n"
     ]
    }
   ],
   "source": [
    "!pip install --upgrade torchvision\n",
    "!wget https://www.dropbox.com/s/l0vo83hmvv2aipn/crnn.pth"
   ]
  },
  {
   "cell_type": "code",
   "execution_count": 8,
   "metadata": {
    "collapsed": true
   },
   "outputs": [],
   "source": [
    "import sys\n",
    "sys.path.append('../../')"
   ]
  },
  {
   "cell_type": "code",
   "execution_count": 9,
   "metadata": {},
   "outputs": [
    {
     "name": "stdout",
     "output_type": "stream",
     "text": [
      "loading pretrained model from crnn.pth\n"
     ]
    }
   ],
   "source": [
    "import dvalib.crnn.utils as utils \n",
    "import dvalib.crnn.dataset as dataset\n",
    "import torch\n",
    "from torch.autograd import Variable\n",
    "from PIL import Image\n",
    "import dvalib.crnn.models.crnn as crnn\n",
    "import glob\n",
    "from IPython.core import display\n",
    "\n",
    "\n",
    "model_path = 'crnn.pth'\n",
    "alphabet = '0123456789abcdefghijklmnopqrstuvwxyz'\n",
    "model = crnn.CRNN(32, 1, 37, 256, 1)\n",
    "print('loading pretrained model from %s' % model_path)\n",
    "model.load_state_dict(torch.load(model_path))\n",
    "converter = utils.strLabelConverter(alphabet)\n",
    "transformer = dataset.resizeNormalize((100, 32))"
   ]
  },
  {
   "cell_type": "code",
   "execution_count": 10,
   "metadata": {},
   "outputs": [
    {
     "data": {
      "image/jpeg": "[encoded data removed]",
      "text/plain": [
       "<IPython.core.display.Image object>"
      ]
     },
     "metadata": {},
     "output_type": "display_data"
    },
    {
     "name": "stdout",
     "output_type": "stream",
     "text": [
      "s-------h--------a-------- => sha                 \n"
     ]
    },
    {
     "data": {
      "image/jpeg": "[encoded data removed]",
      "text/plain": [
       "<IPython.core.display.Image object>"
      ]
     },
     "metadata": {},
     "output_type": "display_data"
    },
    {
     "name": "stdout",
     "output_type": "stream",
     "text": [
      "ss-h-a--k-e-ssh--aa-c--k-- => shakeshack          \n"
     ]
    },
    {
     "data": {
      "image/jpeg": "[encoded data removed]",
      "text/plain": [
       "<IPython.core.display.Image object>"
      ]
     },
     "metadata": {},
     "output_type": "display_data"
    },
    {
     "name": "stdout",
     "output_type": "stream",
     "text": [
      "s--s---n----a---c---k----- => ssnack              \n"
     ]
    },
    {
     "data": {
      "image/jpeg": "[encoded data removed]",
      "text/plain": [
       "<IPython.core.display.Image object>"
      ]
     },
     "metadata": {},
     "output_type": "display_data"
    },
    {
     "name": "stdout",
     "output_type": "stream",
     "text": [
      "p---la-sstiic--b-a--g--s-- => plasticbags         \n"
     ]
    },
    {
     "data": {
      "image/jpeg": "[encoded data removed]",
      "text/plain": [
       "<IPython.core.display.Image object>"
      ]
     },
     "metadata": {},
     "output_type": "display_data"
    },
    {
     "name": "stdout",
     "output_type": "stream",
     "text": [
      "f--o--o-d---ss-c-ra--p--s- => foodscraps          \n"
     ]
    },
    {
     "data": {
      "image/jpeg": "[encoded data removed]",
      "text/plain": [
       "<IPython.core.display.Image object>"
      ]
     },
     "metadata": {},
     "output_type": "display_data"
    },
    {
     "name": "stdout",
     "output_type": "stream",
     "text": [
      "e--x--e-r--e--g--a--t--e-- => exeregate           \n"
     ]
    },
    {
     "data": {
      "image/jpeg": "[encoded data removed]",
      "text/plain": [
       "<IPython.core.display.Image object>"
      ]
     },
     "metadata": {},
     "output_type": "display_data"
    },
    {
     "name": "stdout",
     "output_type": "stream",
     "text": [
      "s----p----a---k---e----s-- => spakes              \n"
     ]
    }
   ],
   "source": [
    "for img_path in glob.glob('boxes/*.jpg'):\n",
    "    image = Image.open(img_path).convert('L')\n",
    "    image = transformer(image)\n",
    "    image = image.view(1, *image.size())\n",
    "    image = Variable(image)\n",
    "    model.eval()\n",
    "    preds = model(image)\n",
    "    _, preds = preds.max(2)\n",
    "    preds = preds.squeeze(2)\n",
    "    preds = preds.transpose(1, 0).contiguous().view(-1)\n",
    "    preds_size = Variable(torch.IntTensor([preds.size(0)]))\n",
    "    raw_pred = converter.decode(preds.data, preds_size.data, raw=True)\n",
    "    sim_pred = converter.decode(preds.data, preds_size.data, raw=False)\n",
    "    display.display(display.Image(img_path))\n",
    "    print('%-20s => %-20s' % (raw_pred, sim_pred))"
   ]
  }
 ],
 "metadata": {
  "kernelspec": {
   "display_name": "Python 2",
   "language": "python",
   "name": "python2"
  },
  "language_info": {
   "codemirror_mode": {
    "name": "ipython",
    "version": 2
   },
   "file_extension": ".py",
   "mimetype": "text/x-python",
   "name": "python",
   "nbconvert_exporter": "python",
   "pygments_lexer": "ipython2",
   "version": "2.7.6"
  }
 },
 "nbformat": 4,
 "nbformat_minor": 1
}
