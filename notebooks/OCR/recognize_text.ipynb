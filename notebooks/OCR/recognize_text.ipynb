{
 "cells": [
  {
   "cell_type": "code",
   "execution_count": null,
   "metadata": {
    "collapsed": true
   },
   "outputs": [],
   "source": [
    "import sys\n",
    "sys.path.append('../../')"
   ]
  },
  {
   "cell_type": "code",
   "execution_count": null,
   "metadata": {},
   "outputs": [],
   "source": [
    "import dvalib.crnn.utils as utils \n",
    "import dvalib.crnn.dataset as dataset\n",
    "import torch\n",
    "from torch.autograd import Variable\n",
    "from PIL import Image\n",
    "import dvalib.crnn.models.crnn as crnn\n",
    "import glob\n",
    "from IPython.core import display\n",
    "\n",
    "\n",
    "model_path = '/root/DVA/dvalib/crnn/data/crnn.pth'\n",
    "alphabet = '0123456789abcdefghijklmnopqrstuvwxyz'\n",
    "model = crnn.CRNN(32, 1, 37, 256, 1)\n",
    "print('loading pretrained model from %s' % model_path)\n",
    "model.load_state_dict(torch.load(model_path))\n",
    "converter = utils.strLabelConverter(alphabet)\n",
    "transformer = dataset.resizeNormalize((100, 32))"
   ]
  },
  {
   "cell_type": "code",
   "execution_count": null,
   "metadata": {},
   "outputs": [],
   "source": [
    "for img_path in glob.glob('boxes/*.jpg'):\n",
    "    image = Image.open(img_path).convert('L')\n",
    "    image = transformer(image)\n",
    "    image = image.view(1, *image.size())\n",
    "    image = Variable(image)\n",
    "    model.eval()\n",
    "    preds = model(image)\n",
    "    _, preds = preds.max(2)\n",
    "    preds = preds.squeeze(2)\n",
    "    preds = preds.transpose(1, 0).contiguous().view(-1)\n",
    "    preds_size = Variable(torch.IntTensor([preds.size(0)]))\n",
    "    raw_pred = converter.decode(preds.data, preds_size.data, raw=True)\n",
    "    sim_pred = converter.decode(preds.data, preds_size.data, raw=False)\n",
    "    display.display(display.Image(img_path))\n",
    "    print('%-20s => %-20s' % (raw_pred, sim_pred))"
   ]
  },
  {
   "cell_type": "code",
   "execution_count": null,
   "metadata": {
    "collapsed": true
   },
   "outputs": [],
   "source": []
  }
 ],
 "metadata": {
  "kernelspec": {
   "display_name": "Python 2",
   "language": "python",
   "name": "python2"
  },
  "language_info": {
   "codemirror_mode": {
    "name": "ipython",
    "version": 2
   },
   "file_extension": ".py",
   "mimetype": "text/x-python",
   "name": "python",
   "nbconvert_exporter": "python",
   "pygments_lexer": "ipython2",
   "version": "2.7.6"
  }
 },
 "nbformat": 4,
 "nbformat_minor": 1
}
