{
 "cells": [
  {
   "cell_type": "code",
   "execution_count": 1,
   "metadata": {
    "collapsed": true
   },
   "outputs": [],
   "source": [
    "import sys\n",
    "sys.path.append('../')"
   ]
  },
  {
   "cell_type": "code",
   "execution_count": 2,
   "metadata": {
    "collapsed": false
   },
   "outputs": [
    {
     "name": "stderr",
     "output_type": "stream",
     "text": [
      "Using TensorFlow backend.\n"
     ]
    }
   ],
   "source": [
    "import argparse\n",
    "import os\n",
    "import matplotlib.pyplot as plt\n",
    "import numpy as np\n",
    "import PIL\n",
    "import tensorflow as tf\n",
    "from keras import backend as K\n",
    "from keras.layers import Input, Lambda, Conv2D\n",
    "from keras.models import load_model, Model\n",
    "from keras.callbacks import TensorBoard, ModelCheckpoint, EarlyStopping\n",
    "from dvalib.yolo.keras_yolo import preprocess_true_boxes, yolo_body,yolo_eval, yolo_head, yolo_loss\n",
    "anchors_path = \"model_data/yolo_anchors.txt\""
   ]
  },
  {
   "cell_type": "code",
   "execution_count": 3,
   "metadata": {
    "collapsed": true
   },
   "outputs": [],
   "source": [
    "data = np.load('/Users/aub3/Desktop/underwater_data.npz')"
   ]
  },
  {
   "cell_type": "code",
   "execution_count": 4,
   "metadata": {
    "collapsed": false
   },
   "outputs": [],
   "source": [
    "YOLO_ANCHORS = np.array(((0.57273, 0.677385), (1.87446, 2.06253), (3.33843, 5.47434),(7.88282, 3.52778), (9.77052, 9.16828)))\n",
    "class_names = ['a','b','c','d','e']\n",
    "# anchors = np.array([float(x) for x in file(anchors_path).readline().split(',')]).reshape(-1, 2)\n",
    "anchors = YOLO_ANCHORS"
   ]
  },
  {
   "cell_type": "code",
   "execution_count": 5,
   "metadata": {
    "collapsed": true
   },
   "outputs": [],
   "source": [
    "def get_detector_mask(boxes, anchors):\n",
    "    '''\n",
    "    Precompute detectors_mask and matching_true_boxes for training.\n",
    "    Detectors mask is 1 for each spatial position in the final conv layer and\n",
    "    anchor that should be active for the given boxes and 0 otherwise.\n",
    "    Matching true boxes gives the regression targets for the ground truth box\n",
    "    that caused a detector to be active or 0 otherwise.\n",
    "    '''\n",
    "    detectors_mask = [0 for i in range(len(boxes))]\n",
    "    matching_true_boxes = [0 for i in range(len(boxes))]\n",
    "    for i, box in enumerate(boxes):\n",
    "        detectors_mask[i], matching_true_boxes[i] = preprocess_true_boxes(box, anchors, [416, 416])\n",
    "\n",
    "    return np.array(detectors_mask), np.array(matching_true_boxes)"
   ]
  },
  {
   "cell_type": "code",
   "execution_count": 6,
   "metadata": {
    "collapsed": true
   },
   "outputs": [],
   "source": [
    "def process_data(images, boxes):\n",
    "    images = [PIL.Image.fromarray(i) for i in images]\n",
    "    orig_size = np.array([images[0].width, images[0].height])\n",
    "    orig_size = np.expand_dims(orig_size, axis=0)\n",
    "    processed_images = [i.resize((416, 416), PIL.Image.BICUBIC) for i in images]\n",
    "    processed_images = [np.array(image, dtype=np.float) for image in processed_images]\n",
    "    processed_images = [image/255. for image in processed_images]\n",
    "    boxes = [box.reshape((-1, 5)) for box in boxes]\n",
    "    boxes_extents = [box[:, [2, 1, 4, 3, 0]] for box in boxes]\n",
    "    boxes_xy = [0.5 * (box[:, 3:5] + box[:, 1:3]) for box in boxes]\n",
    "    boxes_wh = [box[:, 3:5] - box[:, 1:3] for box in boxes]\n",
    "    boxes_xy = [boxxy / orig_size for boxxy in boxes_xy]\n",
    "    boxes_wh = [boxwh / orig_size for boxwh in boxes_wh]\n",
    "    boxes = [np.concatenate((boxes_xy[i], boxes_wh[i], box[:, 0:1]), axis=1) for i, box in enumerate(boxes)]\n",
    "    max_boxes = 10\n",
    "    for boxz in boxes:\n",
    "        if boxz.shape[0] > max_boxes:\n",
    "            max_boxes = boxz.shape[0]\n",
    "    for i, boxz in enumerate(boxes):\n",
    "        if boxz.shape[0]  < max_boxes:\n",
    "            zero_padding = np.zeros( (max_boxes-boxz.shape[0], 5), dtype=np.float32)\n",
    "            boxes[i] = np.vstack((boxz, zero_padding))\n",
    "    return np.array(processed_images), np.array(boxes)"
   ]
  },
  {
   "cell_type": "code",
   "execution_count": 7,
   "metadata": {
    "collapsed": false
   },
   "outputs": [
    {
     "name": "stdout",
     "output_type": "stream",
     "text": [
      "[[  5 177 131 385 281]\n",
      " [  3 527 365 547 479]]\n",
      "50 50\n",
      "(10, 5)\n",
      "[[ 0.4390625   0.42916667  0.          0.          5.        ]\n",
      " [ 0.8390625   0.87916667  0.          0.          3.        ]\n",
      " [ 0.          0.          0.          0.          0.        ]\n",
      " [ 0.          0.          0.          0.          0.        ]\n",
      " [ 0.          0.          0.          0.          0.        ]\n",
      " [ 0.          0.          0.          0.          0.        ]\n",
      " [ 0.          0.          0.          0.          0.        ]\n",
      " [ 0.          0.          0.          0.          0.        ]\n",
      " [ 0.          0.          0.          0.          0.        ]\n",
      " [ 0.          0.          0.          0.          0.        ]]\n"
     ]
    }
   ],
   "source": [
    "print data['boxes'][1]\n",
    "image_data, boxes = process_data(data['images'][:50], data['boxes'][:50])\n",
    "print len(image_data),len(boxes)\n",
    "print boxes[1].shape\n",
    "print boxes[1]"
   ]
  },
  {
   "cell_type": "code",
   "execution_count": 8,
   "metadata": {
    "collapsed": true
   },
   "outputs": [],
   "source": [
    "detectors_mask, matching_true_boxes = get_detector_mask(boxes, anchors)"
   ]
  },
  {
   "cell_type": "code",
   "execution_count": 9,
   "metadata": {
    "collapsed": false,
    "scrolled": false
   },
   "outputs": [
    {
     "name": "stdout",
     "output_type": "stream",
     "text": [
      "(50, 13, 13, 5, 1)\n",
      "(50, 13, 13, 5, 5)\n"
     ]
    }
   ],
   "source": [
    "print detectors_mask.shape\n",
    "print matching_true_boxes.shape"
   ]
  },
  {
   "cell_type": "code",
   "execution_count": 10,
   "metadata": {
    "collapsed": true
   },
   "outputs": [],
   "source": [
    "def create_model(anchors, class_names, load_pretrained=True, freeze_body=True):\n",
    "    '''\n",
    "    returns the body of the model and the model\n",
    "    load_pretrained: whether or not to load the pretrained model or initialize all weights\n",
    "    freeze_body: whether or not to freeze all weights except for the last layer's\n",
    "    model_body: YOLOv2 with new output layer\n",
    "    model: YOLOv2 with custom loss Lambda layer\n",
    "    '''\n",
    "    detectors_mask_shape = (13, 13, 5, 1)\n",
    "    matching_boxes_shape = (13, 13, 5, 5)\n",
    "\n",
    "    # Create model input layers.\n",
    "    image_input = Input(shape=(416, 416, 3))\n",
    "    boxes_input = Input(shape=(None, 5))\n",
    "    detectors_mask_input = Input(shape=detectors_mask_shape)\n",
    "    matching_boxes_input = Input(shape=matching_boxes_shape)\n",
    "\n",
    "    # Create model body.\n",
    "    yolo_model = yolo_body(image_input, len(anchors), len(class_names))\n",
    "    topless_yolo = Model(yolo_model.input, yolo_model.layers[-2].output)\n",
    "\n",
    "    if load_pretrained:\n",
    "        # Save topless yolo:\n",
    "        topless_yolo_path = os.path.join('/Users/aub3/Dropbox/DeepVideoAnalytics/dvalib/yolo/model_data/', 'yolo_topless.h5')\n",
    "        if not os.path.exists(topless_yolo_path):\n",
    "            print(\"CREATING TOPLESS WEIGHTS FILE\")\n",
    "            yolo_path = '/Users/aub3/Dropbox/DeepVideoAnalytics/dvalib/yolo/model_data/yolo.h5'\n",
    "            model_body = load_model(yolo_path)\n",
    "            model_body = Model(model_body.inputs, model_body.layers[-2].output)\n",
    "            model_body.save_weights(topless_yolo_path)\n",
    "        topless_yolo.load_weights(topless_yolo_path)\n",
    "\n",
    "    if freeze_body:\n",
    "        for layer in topless_yolo.layers:\n",
    "            layer.trainable = False\n",
    "    final_layer = Conv2D(len(anchors)*(5+len(class_names)), (1, 1), activation='linear')(topless_yolo.output)\n",
    "\n",
    "    model_body = Model(image_input, final_layer)\n",
    "\n",
    "    # Place model loss on CPU to reduce GPU memory usage.\n",
    "    with tf.device('/cpu:0'):\n",
    "        # TODO: Replace Lambda with custom Keras layer for loss.\n",
    "        model_loss = Lambda(\n",
    "            yolo_loss,\n",
    "            output_shape=(1, ),\n",
    "            name='yolo_loss',\n",
    "            arguments={'anchors': anchors,\n",
    "                       'num_classes': len(class_names)})([\n",
    "                           model_body.output, boxes_input,\n",
    "                           detectors_mask_input, matching_boxes_input\n",
    "                       ])\n",
    "\n",
    "    model = Model(\n",
    "        [model_body.input, boxes_input, detectors_mask_input,\n",
    "         matching_boxes_input], model_loss)\n",
    "\n",
    "    return model_body, model"
   ]
  },
  {
   "cell_type": "code",
   "execution_count": 11,
   "metadata": {
    "collapsed": false
   },
   "outputs": [],
   "source": [
    "model_body, model = create_model(anchors, class_names)"
   ]
  },
  {
   "cell_type": "code",
   "execution_count": 12,
   "metadata": {
    "collapsed": true
   },
   "outputs": [],
   "source": [
    "def train(model, class_names, anchors, image_data, boxes, detectors_mask, matching_true_boxes, validation_split=0.1):\n",
    "    '''\n",
    "    retrain/fine-tune the model\n",
    "\n",
    "    logs training with tensorboard\n",
    "\n",
    "    saves training weights in current directory\n",
    "\n",
    "    best weights according to val_loss is saved as trained_stage_3_best.h5\n",
    "    '''\n",
    "    model.compile(\n",
    "        optimizer='adam', loss={\n",
    "            'yolo_loss': lambda y_true, y_pred: y_pred\n",
    "        })  # This is a hack to use the custom loss function in the last layer.\n",
    "\n",
    "\n",
    "    logging = TensorBoard()\n",
    "    checkpoint = ModelCheckpoint(\"trained_stage_3_best.h5\", monitor='val_loss',\n",
    "                                 save_weights_only=True, save_best_only=True)\n",
    "    early_stopping = EarlyStopping(monitor='val_loss', min_delta=0, patience=15, verbose=1, mode='auto')\n",
    "\n",
    "    model.fit([image_data, boxes, detectors_mask, matching_true_boxes],\n",
    "              np.zeros(len(image_data)),\n",
    "              validation_split=validation_split,\n",
    "              batch_size=32,\n",
    "              epochs=5,\n",
    "              callbacks=[logging])\n",
    "    model.save_weights('trained_stage_1.h5')\n",
    "\n",
    "    model_body, model = create_model(anchors, class_names, load_pretrained=False, freeze_body=False)\n",
    "\n",
    "    model.load_weights('trained_stage_1.h5')\n",
    "\n",
    "    model.compile(\n",
    "        optimizer='adam', loss={\n",
    "            'yolo_loss': lambda y_true, y_pred: y_pred\n",
    "        })  # This is a hack to use the custom loss function in the last layer.\n",
    "\n",
    "\n",
    "    model.fit([image_data, boxes, detectors_mask, matching_true_boxes],\n",
    "              np.zeros(len(image_data)),\n",
    "              validation_split=0.1,\n",
    "              batch_size=8,\n",
    "              epochs=1,\n",
    "              callbacks=[logging])\n",
    "\n",
    "    model.save_weights('trained_stage_2.h5')\n",
    "\n",
    "    model.fit([image_data, boxes, detectors_mask, matching_true_boxes],\n",
    "              np.zeros(len(image_data)),\n",
    "              validation_split=0.1,\n",
    "              batch_size=8,\n",
    "              epochs=1,\n",
    "              callbacks=[logging, checkpoint, early_stopping])\n",
    "\n",
    "    model.save_weights('trained_stage_3.h5')"
   ]
  },
  {
   "cell_type": "code",
   "execution_count": 13,
   "metadata": {
    "collapsed": false
   },
   "outputs": [
    {
     "name": "stdout",
     "output_type": "stream",
     "text": [
      "Train on 45 samples, validate on 5 samples\n",
      "Epoch 1/5\n",
      "45/45 [==============================] - 68s - loss: 2157.6064 - val_loss: 226.5306\n",
      "Epoch 2/5\n",
      "45/45 [==============================] - 66s - loss: 1233.9529 - val_loss: 129.6045\n",
      "Epoch 3/5\n",
      "45/45 [==============================] - 70s - loss: 730.3673 - val_loss: 76.7576\n",
      "Epoch 4/5\n",
      "45/45 [==============================] - 62s - loss: 452.5999 - val_loss: 48.8941\n",
      "Epoch 5/5\n",
      "45/45 [==============================] - 61s - loss: 299.0819 - val_loss: 33.8930\n",
      "Train on 45 samples, validate on 5 samples\n",
      "Epoch 1/1\n",
      "45/45 [==============================] - 184s - loss: 175.1970 - val_loss: 6.9056\n",
      "Train on 45 samples, validate on 5 samples\n",
      "Epoch 1/1\n",
      "45/45 [==============================] - 181s - loss: 13.9366 - val_loss: 7.1386\n"
     ]
    }
   ],
   "source": [
    "train(model,class_names,anchors,image_data,boxes,detectors_mask,matching_true_boxes)"
   ]
  },
  {
   "cell_type": "code",
   "execution_count": 14,
   "metadata": {
    "collapsed": true
   },
   "outputs": [],
   "source": [
    "def draw(model_body, class_names, anchors, image_data, image_set='val',\n",
    "            weights_name='trained_stage_3_best.h5', out_path=\"output_images\", save_all=True):\n",
    "    '''\n",
    "    Draw bounding boxes on image data\n",
    "    '''\n",
    "    if image_set == 'train':\n",
    "        image_data = np.array([np.expand_dims(image, axis=0)\n",
    "            for image in image_data[:int(len(image_data)*.9)]])\n",
    "    elif image_set == 'val':\n",
    "        image_data = np.array([np.expand_dims(image, axis=0)\n",
    "            for image in image_data[int(len(image_data)*.9):]])\n",
    "    elif image_set == 'all':\n",
    "        image_data = np.array([np.expand_dims(image, axis=0)\n",
    "            for image in image_data])\n",
    "    else:\n",
    "        ValueError(\"draw argument image_set must be 'train', 'val', or 'all'\")\n",
    "    # model.load_weights(weights_name)\n",
    "    print(image_data.shape)\n",
    "    model_body.load_weights(weights_name)\n",
    "\n",
    "    # Create output variables for prediction.\n",
    "    yolo_outputs = yolo_head(model_body.output, anchors, len(class_names))\n",
    "    input_image_shape = K.placeholder(shape=(2, ))\n",
    "    boxes, scores, classes = yolo_eval(\n",
    "        yolo_outputs, input_image_shape, score_threshold=0.07, iou_threshold=0)\n",
    "\n",
    "    # Run prediction on overfit image.\n",
    "    sess = K.get_session()  # TODO: Remove dependence on Tensorflow session.\n",
    "\n",
    "    if  not os.path.exists(out_path):\n",
    "        os.makedirs(out_path)\n",
    "    for i in range(len(image_data)):\n",
    "        out_boxes, out_scores, out_classes = sess.run(\n",
    "            [boxes, scores, classes],\n",
    "            feed_dict={\n",
    "                model_body.input: image_data[i],\n",
    "                input_image_shape: [image_data.shape[2], image_data.shape[3]],\n",
    "                K.learning_phase(): 0\n",
    "            })\n",
    "        print('Found {} boxes for image.'.format(len(out_boxes)))\n",
    "        print(out_boxes)\n",
    "\n",
    "        # Plot image with predicted boxes.\n",
    "        image_with_boxes = draw_boxes(image_data[i][0], out_boxes, out_classes,\n",
    "                                    class_names, out_scores)\n",
    "        # Save the image:\n",
    "        if save_all or (len(out_boxes) > 0):\n",
    "            image = PIL.Image.fromarray(image_with_boxes)\n",
    "            image.save(os.path.join(out_path,str(i)+'.png'))\n",
    "\n",
    "        # To display (pauses the program):\n",
    "        # plt.imshow(image_with_boxes, interpolation='nearest')\n",
    "        # plt.show()"
   ]
  },
  {
   "cell_type": "code",
   "execution_count": 16,
   "metadata": {
    "collapsed": false
   },
   "outputs": [
    {
     "name": "stdout",
     "output_type": "stream",
     "text": [
      "(5, 1, 416, 416, 3)\n",
      "Found 0 boxes for image.\n",
      "[]\n"
     ]
    },
    {
     "ename": "NameError",
     "evalue": "global name 'draw_boxes' is not defined",
     "output_type": "error",
     "traceback": [
      "\u001b[0;31m---------------------------------------------------------------------------\u001b[0m",
      "\u001b[0;31mNameError\u001b[0m                                 Traceback (most recent call last)",
      "\u001b[0;32m<ipython-input-16-c24f8a5038d3>\u001b[0m in \u001b[0;36m<module>\u001b[0;34m()\u001b[0m\n\u001b[1;32m      2\u001b[0m \u001b[0mweights_name\u001b[0m\u001b[0;34m=\u001b[0m\u001b[0;34m'trained_stage_3_best.h5'\u001b[0m\u001b[0;34m\u001b[0m\u001b[0m\n\u001b[1;32m      3\u001b[0m \u001b[0msave_all\u001b[0m\u001b[0;34m=\u001b[0m\u001b[0mFalse\u001b[0m\u001b[0;34m\u001b[0m\u001b[0m\n\u001b[0;32m----> 4\u001b[0;31m \u001b[0mdraw\u001b[0m\u001b[0;34m(\u001b[0m\u001b[0mmodel_body\u001b[0m\u001b[0;34m,\u001b[0m\u001b[0mclass_names\u001b[0m\u001b[0;34m,\u001b[0m\u001b[0manchors\u001b[0m\u001b[0;34m,\u001b[0m\u001b[0mimage_data\u001b[0m\u001b[0;34m,\u001b[0m\u001b[0mimage_set\u001b[0m\u001b[0;34m=\u001b[0m\u001b[0mimage_set\u001b[0m\u001b[0;34m,\u001b[0m\u001b[0mweights_name\u001b[0m\u001b[0;34m=\u001b[0m\u001b[0mweights_name\u001b[0m\u001b[0;34m,\u001b[0m\u001b[0msave_all\u001b[0m\u001b[0;34m=\u001b[0m\u001b[0msave_all\u001b[0m\u001b[0;34m)\u001b[0m\u001b[0;34m\u001b[0m\u001b[0m\n\u001b[0m",
      "\u001b[0;32m<ipython-input-14-79ce47f5fe09>\u001b[0m in \u001b[0;36mdraw\u001b[0;34m(model_body, class_names, anchors, image_data, image_set, weights_name, out_path, save_all)\u001b[0m\n\u001b[1;32m     42\u001b[0m \u001b[0;34m\u001b[0m\u001b[0m\n\u001b[1;32m     43\u001b[0m         \u001b[0;31m# Plot image with predicted boxes.\u001b[0m\u001b[0;34m\u001b[0m\u001b[0;34m\u001b[0m\u001b[0m\n\u001b[0;32m---> 44\u001b[0;31m         image_with_boxes = draw_boxes(image_data[i][0], out_boxes, out_classes,\n\u001b[0m\u001b[1;32m     45\u001b[0m                                     class_names, out_scores)\n\u001b[1;32m     46\u001b[0m         \u001b[0;31m# Save the image:\u001b[0m\u001b[0;34m\u001b[0m\u001b[0;34m\u001b[0m\u001b[0m\n",
      "\u001b[0;31mNameError\u001b[0m: global name 'draw_boxes' is not defined"
     ]
    }
   ],
   "source": [
    "image_set='val' \n",
    "weights_name='trained_stage_3_best.h5'\n",
    "save_all=False\n",
    "draw(model_body,class_names,anchors,image_data,image_set=image_set,weights_name=weights_name,save_all=save_all)"
   ]
  },
  {
   "cell_type": "code",
   "execution_count": null,
   "metadata": {
    "collapsed": true
   },
   "outputs": [],
   "source": []
  }
 ],
 "metadata": {
  "kernelspec": {
   "display_name": "Python 2",
   "language": "python",
   "name": "python2"
  },
  "language_info": {
   "codemirror_mode": {
    "name": "ipython",
    "version": 2
   },
   "file_extension": ".py",
   "mimetype": "text/x-python",
   "name": "python",
   "nbconvert_exporter": "python",
   "pygments_lexer": "ipython2",
   "version": "2.7.10"
  }
 },
 "nbformat": 4,
 "nbformat_minor": 1
}
