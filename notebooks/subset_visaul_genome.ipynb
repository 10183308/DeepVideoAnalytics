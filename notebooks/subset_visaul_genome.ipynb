{
 "cells": [
  {
   "cell_type": "markdown",
   "metadata": {},
   "source": [
    "## Create custom dataset from Visual Genome"
   ]
  },
  {
   "cell_type": "code",
   "execution_count": 3,
   "metadata": {
    "collapsed": false
   },
   "outputs": [],
   "source": [
    "import sys, os\n",
    "sys.path.append(\"../\")\n",
    "import django\n",
    "os.environ.setdefault(\"DJANGO_SETTINGS_MODULE\", \"dva.settings\")\n",
    "django.setup()"
   ]
  },
  {
   "cell_type": "code",
   "execution_count": 15,
   "metadata": {
    "collapsed": false
   },
   "outputs": [],
   "source": [
    "import os, shutil, gzip, json\n",
    "from django.core.files.uploadedfile import SimpleUploadedFile\n",
    "from dvaapp.shared import handle_uploaded_file\n",
    "from dvaapp import models\n",
    "from dvaapp.models import TEvent\n",
    "from dvaapp.tasks import extract_frames, export_video_by_id\n",
    "from collections import defaultdict"
   ]
  },
  {
   "cell_type": "code",
   "execution_count": 5,
   "metadata": {
    "collapsed": true
   },
   "outputs": [],
   "source": [
    "dirname = \"/Volumes/Samsung_T1/visual_genome/\"\n",
    "outdirname = \"/Volumes/Samsung_T1/\"\n",
    "object_name = 'license plate'\n",
    "try:\n",
    "    shutil.rmtree('{}/temp'.format(outdirname))            \n",
    "except:\n",
    "    pass\n",
    "try:\n",
    "    os.mkdir('{}/temp'.format(outdirname))            \n",
    "except:\n",
    "    pass"
   ]
  },
  {
   "cell_type": "code",
   "execution_count": 10,
   "metadata": {
    "collapsed": false,
    "scrolled": true
   },
   "outputs": [
    {
     "data": {
      "text/plain": [
       "0"
      ]
     },
     "execution_count": 10,
     "metadata": {},
     "output_type": "execute_result"
    }
   ],
   "source": [
    "data = defaultdict(list)\n",
    "with gzip.open('{}/visual_genome_objects.txt.gz'.format(dirname)) as metadata:\n",
    "    for line in metadata:\n",
    "        entries = line.strip().split('\\t')\n",
    "        if object_name in entries[6:]:\n",
    "            shutil.copy('{}/{}.jpg'.format(dirname,entries[1]),'{}/temp/{}.jpg'.format(outdirname,entries[1]))\n",
    "            data[entries[1]].append({\n",
    "                'x':int(entries[2]),\n",
    "                'y':int(entries[3]),\n",
    "                'w':int(entries[4]),\n",
    "                'h':int(entries[5]),\n",
    "                'object_id':entries[0],\n",
    "                'object_name':entries[6],\n",
    "                'metadata_text':' '.join(entries[6:]),})\n",
    "os.system('zip vg.zip -r {}/temp'.format(outdirname))"
   ]
  },
  {
   "cell_type": "code",
   "execution_count": 11,
   "metadata": {
    "collapsed": true
   },
   "outputs": [],
   "source": [
    "name = \"visual_genome {}\".format(object_name)\n",
    "fname = \"vg.zip\"\n",
    "f = SimpleUploadedFile(fname, file(fname).read(), content_type=\"application/zip\")\n",
    "v = handle_uploaded_file(f, name)\n",
    "extract_frames(TEvent.objects.create(video=v).pk)"
   ]
  },
  {
   "cell_type": "code",
   "execution_count": 16,
   "metadata": {
    "collapsed": false
   },
   "outputs": [
    {
     "name": "stdout",
     "output_type": "stream",
     "text": [
      "saving\n",
      "saving\n"
     ]
    },
    {
     "data": {
      "text/plain": [
       "'1_1496595768.dva_export.zip'"
      ]
     },
     "execution_count": 16,
     "metadata": {},
     "output_type": "execute_result"
    }
   ],
   "source": [
    "video = v\n",
    "models.Region.objects.all().filter(video=video).delete()\n",
    "buffer = []\n",
    "for frame in models.Frame.objects.all().filter(video=video):\n",
    "    frame_id = str(int(frame.name.split('/')[-1].split('.')[0]))\n",
    "    for o in data[frame_id]:\n",
    "        annotation = models.Region()\n",
    "        annotation.region_type = models.Region.ANNOTATION\n",
    "        annotation.video = v\n",
    "        annotation.frame = frame\n",
    "        annotation.x = o['x']\n",
    "        annotation.y = o['y']\n",
    "        annotation.h = o['h']\n",
    "        annotation.w = o['w']\n",
    "        annotation.object_name = o['object_name']\n",
    "        annotation.metadata_json = json.dumps(o)\n",
    "        annotation.metadata_text = o['metadata_text']\n",
    "        buffer.append(annotation)\n",
    "        if len(buffer) == 1000:\n",
    "            models.Region.objects.bulk_create(buffer)\n",
    "            print \"saving\"\n",
    "            buffer = []\n",
    "models.Region.objects.bulk_create(buffer)\n",
    "export_video_by_id(TEvent.objects.create(video=v).pk)"
   ]
  },
  {
   "cell_type": "code",
   "execution_count": null,
   "metadata": {
    "collapsed": true
   },
   "outputs": [],
   "source": []
  }
 ],
 "metadata": {
  "kernelspec": {
   "display_name": "Python 2",
   "language": "python",
   "name": "python2"
  },
  "language_info": {
   "codemirror_mode": {
    "name": "ipython",
    "version": 2
   },
   "file_extension": ".py",
   "mimetype": "text/x-python",
   "name": "python",
   "nbconvert_exporter": "python",
   "pygments_lexer": "ipython2",
   "version": "2.7.10"
  }
 },
 "nbformat": 4,
 "nbformat_minor": 1
}
