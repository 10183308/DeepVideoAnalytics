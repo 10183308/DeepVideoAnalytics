{
 "cells": [
  {
   "cell_type": "code",
   "execution_count": 1,
   "metadata": {
    "collapsed": false
   },
   "outputs": [],
   "source": [
    "import sys\n",
    "sys.path.append('../../')\n",
    "import django,os,glob\n",
    "os.environ.setdefault(\"DJANGO_SETTINGS_MODULE\", \"dva.settings\")\n",
    "django.setup()"
   ]
  },
  {
   "cell_type": "code",
   "execution_count": 2,
   "metadata": {
    "collapsed": true
   },
   "outputs": [],
   "source": [
    "import tensorflow as tf"
   ]
  },
  {
   "cell_type": "code",
   "execution_count": 3,
   "metadata": {
    "collapsed": false
   },
   "outputs": [],
   "source": [
    "input_path = \"/Users/aub3/media/1/frames/*.jpg\"\n",
    "model_path = \"/Users/aub3/Dropbox/DeepVideoAnalytics/dvalib/object_detection/ssd_mobilenet_v1_coco_11_06_2017/frozen_inference_graph.pb\"\n",
    "detection_graph = tf.Graph()\n",
    "with detection_graph.as_default():\n",
    "    filename_queue = tf.train.string_input_producer(tf.train.match_filenames_once(input_path))\n",
    "    image_reader = tf.WholeFileReader()\n",
    "    imname, image_file = image_reader.read(filename_queue)\n",
    "    image = tf.expand_dims(tf.image.decode_image(image_file),0)\n",
    "    od_graph_def = tf.GraphDef()\n",
    "    with tf.gfile.GFile(model_path, 'rb') as fid:\n",
    "        serialized_graph = fid.read()\n",
    "        od_graph_def.ParseFromString(serialized_graph)\n",
    "        tf.import_graph_def(od_graph_def, name='',input_map={\"image_tensor:0\": image})\n",
    "    sess = tf.InteractiveSession(graph=detection_graph)\n",
    "image_tensor = detection_graph.get_tensor_by_name('image_tensor:0')\n",
    "boxes = detection_graph.get_tensor_by_name('detection_boxes:0')\n",
    "scores = detection_graph.get_tensor_by_name('detection_scores:0')\n",
    "classes = detection_graph.get_tensor_by_name('detection_classes:0')\n",
    "num_detections = detection_graph.get_tensor_by_name('num_detections:0')"
   ]
  },
  {
   "cell_type": "code",
   "execution_count": null,
   "metadata": {
    "collapsed": true
   },
   "outputs": [],
   "source": [
    "imname"
   ]
  }
 ],
 "metadata": {
  "kernelspec": {
   "display_name": "Python 2",
   "language": "python",
   "name": "python2"
  },
  "language_info": {
   "codemirror_mode": {
    "name": "ipython",
    "version": 2
   },
   "file_extension": ".py",
   "mimetype": "text/x-python",
   "name": "python",
   "nbconvert_exporter": "python",
   "pygments_lexer": "ipython2",
   "version": "2.7.10"
  }
 },
 "nbformat": 4,
 "nbformat_minor": 0
}
